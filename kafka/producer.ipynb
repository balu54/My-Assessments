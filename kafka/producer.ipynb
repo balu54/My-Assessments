{
  "nbformat": 4,
  "nbformat_minor": 0,
  "metadata": {
    "colab": {
      "provenance": []
    },
    "kernelspec": {
      "name": "python3",
      "display_name": "Python 3"
    },
    "language_info": {
      "name": "python"
    }
  },
  "cells": [
    {
      "cell_type": "code",
      "source": [
        "! pip install faust"
      ],
      "metadata": {
        "id": "TcD9yNmxYc26"
      },
      "execution_count": null,
      "outputs": []
    },
    {
      "cell_type": "code",
      "execution_count": 3,
      "metadata": {
        "id": "3srBJmlXX_up"
      },
      "outputs": [],
      "source": [
        "from kafka import KafkaProducer\n",
        "from time import sleep\n",
        "import json\n",
        "from datetime import datetime"
      ]
    },
    {
      "cell_type": "code",
      "source": [
        "producer=KafkaProducer(bootstrap_servers=[\"localhost:9092\"],api_version=(0,8,1))"
      ],
      "metadata": {
        "id": "b2ewqkzGYQZ_"
      },
      "execution_count": null,
      "outputs": []
    },
    {
      "cell_type": "code",
      "source": [
        "data={\"Farmhouse\":300,\"Marghreita\":200,\"Cheese burst\":250}"
      ],
      "metadata": {
        "id": "Zd4ifSrpYQWf"
      },
      "execution_count": null,
      "outputs": []
    },
    {
      "cell_type": "code",
      "source": [
        "producer.send(\"pizza\",json.dumps(data).encode(\"utf-8\"))"
      ],
      "metadata": {
        "colab": {
          "base_uri": "https://localhost:8080/"
        },
        "id": "tW7hghrrYQRg",
        "outputId": "2cff8500-1156-46dc-bd85-5d51052aeb51"
      },
      "execution_count": 10,
      "outputs": [
        {
          "output_type": "stream",
          "name": "stdout",
          "text": [
            "<kafka.producer.future.FutureRecordMetadata at 0x22f93945665>\n"
          ]
        }
      ]
    },
    {
      "cell_type": "code",
      "source": [],
      "metadata": {
        "id": "mXDCaqJFYQO1"
      },
      "execution_count": null,
      "outputs": []
    }
  ]
}