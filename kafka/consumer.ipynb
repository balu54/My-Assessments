{
  "nbformat": 4,
  "nbformat_minor": 0,
  "metadata": {
    "colab": {
      "provenance": []
    },
    "kernelspec": {
      "name": "python3",
      "display_name": "Python 3"
    },
    "language_info": {
      "name": "python"
    }
  },
  "cells": [
    {
      "cell_type": "code",
      "execution_count": null,
      "metadata": {
        "id": "wo6AHZkIYTKa"
      },
      "outputs": [],
      "source": []
    },
    {
      "cell_type": "code",
      "source": [
        "! pip install faust"
      ],
      "metadata": {
        "id": "TcD9yNmxYc26"
      },
      "execution_count": null,
      "outputs": []
    },
    {
      "cell_type": "code",
      "execution_count": 5,
      "metadata": {
        "id": "3srBJmlXX_up"
      },
      "outputs": [],
      "source": [
        "from kafka import KafkaConsumer\n",
        "from time import sleep\n",
        "import json\n",
        "from datetime import datetime"
      ]
    },
    {
      "cell_type": "code",
      "source": [
        "consumer = KafkaConsumer(\"pizza\",bootstrap_servers=[\"localhost:9092\"],api_version=(0,10))"
      ],
      "metadata": {
        "id": "70AczRytaAhd"
      },
      "execution_count": null,
      "outputs": []
    },
    {
      "cell_type": "code",
      "source": [
        "def customer(order):\n",
        "    for i in consumer:\n",
        "        my_new_string_value = i.value.decode(\"utf-8\")\n",
        "        my_json = json.loads(my_new_string_value)\n",
        "        if order in my_json:\n",
        "            print(\"the amount for the pizza is : \",my_json[order])\n",
        "        else:\n",
        "            print(\"invalid request\")\n",
        "        break"
      ],
      "metadata": {
        "id": "XhMBRQUhaDvY"
      },
      "execution_count": 8,
      "outputs": []
    },
    {
      "cell_type": "code",
      "source": [
        "customer(\"Marghreita\")"
      ],
      "metadata": {
        "colab": {
          "base_uri": "https://localhost:8080/"
        },
        "id": "PaV0cYlfaGrO",
        "outputId": "80b0df75-d829-48cf-92a0-bf2c79696288"
      },
      "execution_count": 10,
      "outputs": [
        {
          "output_type": "stream",
          "name": "stdout",
          "text": [
            "the amount for the pizza is :  200\n"
          ]
        }
      ]
    },
    {
      "cell_type": "code",
      "source": [
        "customer(\"Cheese burst\")"
      ],
      "metadata": {
        "colab": {
          "base_uri": "https://localhost:8080/"
        },
        "id": "dF_yzhmDa4x-",
        "outputId": "1af9effe-db53-45e3-c119-a134b190e3c5"
      },
      "execution_count": 13,
      "outputs": [
        {
          "output_type": "stream",
          "name": "stdout",
          "text": [
            "the amount for the pizza is :  250\n"
          ]
        }
      ]
    },
    {
      "cell_type": "code",
      "source": [
        "customer(\"Cheese\")"
      ],
      "metadata": {
        "colab": {
          "base_uri": "https://localhost:8080/"
        },
        "id": "j-VxK9QTbGU_",
        "outputId": "a8f8b02b-9d0f-44f5-fe8d-47d26941d06e"
      },
      "execution_count": 16,
      "outputs": [
        {
          "output_type": "stream",
          "name": "stdout",
          "text": [
            "invalid request\n"
          ]
        }
      ]
    }
  ]
}